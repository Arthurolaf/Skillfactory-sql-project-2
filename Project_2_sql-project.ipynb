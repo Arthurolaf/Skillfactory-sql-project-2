{
  "cells": [
    {
      "cell_type": "markdown",
      "id": "42289889-bd57-434e-9637-d3e354756316",
      "metadata": {
        "id": "42289889-bd57-434e-9637-d3e354756316"
      },
      "source": [
        "<center> <img src = https://raw.githubusercontent.com/AndreyRysistov/DatasetsForPandas/main/hh%20label.jpg alt=\"drawing\" style=\"width:400px;\">"
      ]
    },
    {
      "cell_type": "markdown",
      "id": "829cb75b-f14e-4ba8-9195-7ba929a7d656",
      "metadata": {
        "id": "829cb75b-f14e-4ba8-9195-7ba929a7d656",
        "tags": []
      },
      "source": [
        "# <center> Проект: Анализ вакансий из HeadHunter\n",
        "   "
      ]
    },
    {
      "cell_type": "code",
      "execution_count": 7,
      "id": "dccfde33-2452-43fb-a8a5-5c6ebc02a71d",
      "metadata": {
        "id": "dccfde33-2452-43fb-a8a5-5c6ebc02a71d"
      },
      "outputs": [],
      "source": [
        "import numpy as np\n",
        "import pandas as pd\n",
        "import psycopg2"
      ]
    },
    {
      "cell_type": "code",
      "execution_count": 8,
      "id": "oVKH4ehvf8Ay",
      "metadata": {
        "id": "oVKH4ehvf8Ay"
      },
      "outputs": [],
      "source": [
        "# вставьте сюда параметры подключения из юнита 1. Работа с базой данных из Python \n",
        "# Данный для подключения были заменены необходимо внести корректные данные\n",
        "DBNAME = 'база данных'\n",
        "USER = 'пользователь '\n",
        "PASSWORD = 'Пароль'\n",
        "HOST = 'IP address'\n",
        "PORT = 5432 "
      ]
    },
    {
      "cell_type": "code",
      "execution_count": 9,
      "id": "G4X_q8KBf7SF",
      "metadata": {
        "id": "G4X_q8KBf7SF"
      },
      "outputs": [],
      "source": [
        "connection = psycopg2.connect(\n",
        "    dbname=DBNAME,\n",
        "    user=USER,\n",
        "    host=HOST,\n",
        "    password=PASSWORD,\n",
        "    port=PORT\n",
        ")"
      ]
    },
    {
      "cell_type": "markdown",
      "id": "0dc6476b-7a00-44f1-ac93-6e3baed33a29",
      "metadata": {
        "id": "0dc6476b-7a00-44f1-ac93-6e3baed33a29"
      },
      "source": [
        "# Юнит 3. Предварительный анализ данных"
      ]
    },
    {
      "cell_type": "markdown",
      "id": "889782b6-8d1c-410e-8920-e57f27917c64",
      "metadata": {
        "id": "889782b6-8d1c-410e-8920-e57f27917c64"
      },
      "source": [
        "1. Напишите запрос, который посчитает количество вакансий в нашей базе (вакансии находятся в таблице vacancies). "
      ]
    },
    {
      "cell_type": "code",
      "execution_count": 10,
      "id": "bc39e68e-ed02-4ee2-9235-7258a2f867a8",
      "metadata": {
        "id": "bc39e68e-ed02-4ee2-9235-7258a2f867a8"
      },
      "outputs": [],
      "source": [
        "# текст запроса\n",
        "query_3_1 = f'''\n",
        "SELECT count(*) FROM vacancies\n",
        "'''\n"
      ]
    },
    {
      "cell_type": "code",
      "execution_count": 11,
      "id": "7mAwtsk4hEHY",
      "metadata": {
        "id": "7mAwtsk4hEHY"
      },
      "outputs": [
        {
          "name": "stderr",
          "output_type": "stream",
          "text": [
            "C:\\Users\\Artur.Abaidulov\\AppData\\Local\\Temp\\ipykernel_23508\\1909379053.py:2: UserWarning: pandas only supports SQLAlchemy connectable (engine/connection) or database string URI or sqlite3 DBAPI2 connection. Other DBAPI2 objects are not tested. Please consider using SQLAlchemy.\n",
            "  df_vacancies = pd.read_sql_query(query_3_1, connection)\n"
          ]
        },
        {
          "name": "stdout",
          "output_type": "stream",
          "text": [
            "   count\n",
            "0  49197\n"
          ]
        }
      ],
      "source": [
        "# результат запроса\n",
        "df_vacancies = pd.read_sql_query(query_3_1, connection)\n",
        "print(df_vacancies)"
      ]
    },
    {
      "cell_type": "markdown",
      "id": "b583485d-1f9e-494e-ada4-80ffff7c53d6",
      "metadata": {
        "id": "b583485d-1f9e-494e-ada4-80ffff7c53d6"
      },
      "source": [
        "2. Напишите запрос, который посчитает количество работодателей (таблица employers). "
      ]
    },
    {
      "cell_type": "code",
      "execution_count": 12,
      "id": "5408c52c-3407-4a63-b25b-1aafa2322d28",
      "metadata": {
        "id": "5408c52c-3407-4a63-b25b-1aafa2322d28"
      },
      "outputs": [],
      "source": [
        "# текст запроса\n",
        "query_3_2 = f'''\n",
        "SELECT count(*) FROM employers\n",
        "'''\n"
      ]
    },
    {
      "cell_type": "code",
      "execution_count": 13,
      "id": "jVL4eshKhdqc",
      "metadata": {
        "id": "jVL4eshKhdqc"
      },
      "outputs": [
        {
          "name": "stdout",
          "output_type": "stream",
          "text": [
            "   count\n",
            "0  23501\n"
          ]
        },
        {
          "name": "stderr",
          "output_type": "stream",
          "text": [
            "C:\\Users\\Artur.Abaidulov\\AppData\\Local\\Temp\\ipykernel_23508\\946347788.py:2: UserWarning: pandas only supports SQLAlchemy connectable (engine/connection) or database string URI or sqlite3 DBAPI2 connection. Other DBAPI2 objects are not tested. Please consider using SQLAlchemy.\n",
            "  df_employers = pd.read_sql_query(query_3_2, connection)\n"
          ]
        }
      ],
      "source": [
        "# результат запроса\n",
        "df_employers = pd.read_sql_query(query_3_2, connection)\n",
        "print(df_employers)"
      ]
    },
    {
      "cell_type": "markdown",
      "id": "a2bfff1f-c975-4bf6-84be-2185d79dcb76",
      "metadata": {
        "id": "a2bfff1f-c975-4bf6-84be-2185d79dcb76"
      },
      "source": [
        "3. Посчитате с помощью запроса количество регионов (таблица areas)."
      ]
    },
    {
      "cell_type": "code",
      "execution_count": 14,
      "id": "1m8QJwBYhey6",
      "metadata": {
        "id": "1m8QJwBYhey6"
      },
      "outputs": [],
      "source": [
        "# текст запроса\n",
        "query_3_3 = f'''\n",
        "SELECT count(*) FROM areas\n",
        "'''"
      ]
    },
    {
      "cell_type": "code",
      "execution_count": 15,
      "id": "EZsn9tlfhe7f",
      "metadata": {
        "id": "EZsn9tlfhe7f"
      },
      "outputs": [
        {
          "name": "stdout",
          "output_type": "stream",
          "text": [
            "   count\n",
            "0   1362\n"
          ]
        },
        {
          "name": "stderr",
          "output_type": "stream",
          "text": [
            "C:\\Users\\Artur.Abaidulov\\AppData\\Local\\Temp\\ipykernel_23508\\2878732808.py:2: UserWarning: pandas only supports SQLAlchemy connectable (engine/connection) or database string URI or sqlite3 DBAPI2 connection. Other DBAPI2 objects are not tested. Please consider using SQLAlchemy.\n",
            "  df_areas = pd.read_sql_query(query_3_3, connection)\n"
          ]
        }
      ],
      "source": [
        "# результат запроса\n",
        "df_areas = pd.read_sql_query(query_3_3, connection)\n",
        "print(df_areas)"
      ]
    },
    {
      "cell_type": "markdown",
      "id": "41bb59f3-53cc-4a67-a5bc-bedf573955e4",
      "metadata": {
        "id": "41bb59f3-53cc-4a67-a5bc-bedf573955e4"
      },
      "source": [
        "4. Посчитате с помощью запроса количество сфер деятельности в базе (таблица industries)."
      ]
    },
    {
      "cell_type": "code",
      "execution_count": 16,
      "id": "d286cf4c-707b-4cd2-9190-7ab3587d04a1",
      "metadata": {
        "id": "d286cf4c-707b-4cd2-9190-7ab3587d04a1"
      },
      "outputs": [],
      "source": [
        "# текст запроса\n",
        "query_3_4 = f'''\n",
        "SELECT count(*) FROM industries\n",
        "'''\n"
      ]
    },
    {
      "cell_type": "code",
      "execution_count": 17,
      "id": "JYAaoZ4qhfzW",
      "metadata": {
        "id": "JYAaoZ4qhfzW"
      },
      "outputs": [
        {
          "name": "stdout",
          "output_type": "stream",
          "text": [
            "   count\n",
            "0   1362\n"
          ]
        },
        {
          "name": "stderr",
          "output_type": "stream",
          "text": [
            "C:\\Users\\Artur.Abaidulov\\AppData\\Local\\Temp\\ipykernel_23508\\175086551.py:2: UserWarning: pandas only supports SQLAlchemy connectable (engine/connection) or database string URI or sqlite3 DBAPI2 connection. Other DBAPI2 objects are not tested. Please consider using SQLAlchemy.\n",
            "  df_industries = pd.read_sql_query(query_3_3, connection)\n"
          ]
        }
      ],
      "source": [
        "# результат запроса\n",
        "df_industries = pd.read_sql_query(query_3_3, connection)\n",
        "print(df_industries)"
      ]
    },
    {
      "attachments": {},
      "cell_type": "markdown",
      "id": "46075189",
      "metadata": {},
      "source": [
        "<h3> выводы по предварительному анализу данных </h3>\n",
        "\n",
        "<p>Если брать выводы только по количеству строк, то видно, что таблицы разнообразные по длинне.<br>\n",
        "Вероятно таблица с вакансиями основаня таблица содержить больше всего записей.\n",
        "Остальные таблицы связные таблицы.</p>\n",
        "\n",
        "<b><i>Дополнительно.</i></b><br>\n",
        "Для проверки сделанного вывода ниже был выполниен дополнительный запрос в базу.\n",
        "<p>Который отобразит тип данных название столбцов у перечисленных выше таблиц.<br>\n",
        "Видно что в таблице вакансий есть текстовые поля и поля кулючи которые по названию совпадают с таблицами (<i> employers, areas </i>)\n",
        "что подтверждает что эти таблицы связные.<p>\n",
        "  \n",
        "\n"
      ]
    },
    {
      "cell_type": "markdown",
      "id": "9a8a2181-6914-448b-85f1-38f5f18b8a93",
      "metadata": {
        "id": "9a8a2181-6914-448b-85f1-38f5f18b8a93"
      },
      "source": [
        "***"
      ]
    },
    {
      "cell_type": "code",
      "execution_count": 18,
      "id": "be4e9bd3-a4db-4a20-82fb-6b02fc2957e0",
      "metadata": {
        "id": "be4e9bd3-a4db-4a20-82fb-6b02fc2957e0"
      },
      "outputs": [
        {
          "name": "stderr",
          "output_type": "stream",
          "text": [
            "C:\\Users\\Artur.Abaidulov\\AppData\\Local\\Temp\\ipykernel_23508\\3841190620.py:6: UserWarning: pandas only supports SQLAlchemy connectable (engine/connection) or database string URI or sqlite3 DBAPI2 connection. Other DBAPI2 objects are not tested. Please consider using SQLAlchemy.\n",
            "  df_industries = pd.read_sql_query(query_3_final, connection)\n"
          ]
        },
        {
          "name": "stdout",
          "output_type": "stream",
          "text": [
            "   table_schema  table_name  column_name          data_type\n",
            "0        public   employers           id            integer\n",
            "1        public   employers         name               text\n",
            "2        public   employers         area            integer\n",
            "3        public  industries           id  character varying\n",
            "4        public  industries         name               text\n",
            "5        public   vacancies           id            integer\n",
            "6        public   vacancies         name               text\n",
            "7        public   vacancies   key_skills               text\n",
            "8        public   vacancies     schedule               text\n",
            "9        public   vacancies   experience               text\n",
            "10       public   vacancies   employment               text\n",
            "11       public   vacancies  salary_from            integer\n",
            "12       public   vacancies    salary_to            integer\n",
            "13       public   vacancies      area_id            integer\n",
            "14       public   vacancies  employer_id            integer\n",
            "15       public       areas           id            integer\n",
            "16       public       areas         name               text\n"
          ]
        }
      ],
      "source": [
        "# дополнительный предварительный анализ к выводу\n",
        "query_3_final = f'''SELECT table_schema, table_name, column_name, data_type FROM information_schema.columns\n",
        "WHERE table_schema = 'public' AND (table_name = 'industries' OR table_name = 'areas' OR table_name = 'employers' OR table_name = 'vacancies')\n",
        "'''\n",
        "# результат запроса\n",
        "df_industries = pd.read_sql_query(query_3_final, connection)\n",
        "print(df_industries)\n"
      ]
    },
    {
      "cell_type": "markdown",
      "id": "8d62a9f3-f64e-4fe7-bdac-c4dffa16155e",
      "metadata": {
        "id": "8d62a9f3-f64e-4fe7-bdac-c4dffa16155e"
      },
      "source": [
        "# Юнит 4. Детальный анализ вакансий"
      ]
    },
    {
      "cell_type": "markdown",
      "id": "93053d3d-b284-481a-9cf7-012d7014c0e0",
      "metadata": {
        "id": "93053d3d-b284-481a-9cf7-012d7014c0e0"
      },
      "source": [
        "1. Напишите запрос, который позволит узнать, сколько (cnt) вакансий в каждом регионе (area).\n",
        "Отсортируйте по количеству вакансий в порядке убывания."
      ]
    },
    {
      "cell_type": "code",
      "execution_count": 19,
      "id": "3f069da6-fdc9-4ae7-b514-fafe2675efd3",
      "metadata": {
        "id": "3f069da6-fdc9-4ae7-b514-fafe2675efd3"
      },
      "outputs": [],
      "source": [
        "# текст запроса\n",
        "query_4_1 = f'''SELECT\n",
        "                a.name,\n",
        "                count(v.id) as cnt\n",
        "\n",
        "            FROM\n",
        "                vacancies v\n",
        "                join areas a ON a.id = v.area_id \n",
        "            GROUP BY a.name\n",
        "            order by 2 DESC\n",
        "        '''"
      ]
    },
    {
      "cell_type": "code",
      "execution_count": 20,
      "id": "P7QL86hrjhRJ",
      "metadata": {
        "id": "P7QL86hrjhRJ"
      },
      "outputs": [
        {
          "name": "stderr",
          "output_type": "stream",
          "text": [
            "C:\\Users\\Artur.Abaidulov\\AppData\\Local\\Temp\\ipykernel_23508\\4134734627.py:3: UserWarning: pandas only supports SQLAlchemy connectable (engine/connection) or database string URI or sqlite3 DBAPI2 connection. Other DBAPI2 objects are not tested. Please consider using SQLAlchemy.\n",
            "  df_4_1 = pd.read_sql_query(query_4_1, connection)\n"
          ]
        },
        {
          "name": "stdout",
          "output_type": "stream",
          "text": [
            "                name   cnt\n",
            "0             Москва  5333\n",
            "1    Санкт-Петербург  2851\n",
            "2              Минск  2112\n",
            "3        Новосибирск  2006\n",
            "4             Алматы  1892\n",
            "..               ...   ...\n",
            "764       Тарко-Сале     1\n",
            "765    Новоаннинский     1\n",
            "766            Бирск     1\n",
            "767           Сасово     1\n",
            "768             Анна     1\n",
            "\n",
            "[769 rows x 2 columns]\n"
          ]
        }
      ],
      "source": [
        "# результат запроса\n",
        "\n",
        "df_4_1 = pd.read_sql_query(query_4_1, connection)\n",
        "print(df_4_1)"
      ]
    },
    {
      "cell_type": "markdown",
      "id": "4266f0b6-1646-492a-88b4-2f6a46502135",
      "metadata": {
        "id": "4266f0b6-1646-492a-88b4-2f6a46502135"
      },
      "source": [
        "2. Напишите запрос, чтобы определить у какого количества вакансий заполнено хотя бы одно из двух полей с зарплатой."
      ]
    },
    {
      "cell_type": "code",
      "execution_count": 21,
      "id": "0c44b350-72eb-4d65-8b54-a1fc449ba9fd",
      "metadata": {
        "id": "0c44b350-72eb-4d65-8b54-a1fc449ba9fd"
      },
      "outputs": [],
      "source": [
        "# текст запроса\n",
        "query_4_2 = f'''SELECT\n",
        "                count(v.id) as cnt\n",
        "            FROM\n",
        "                vacancies v \n",
        "            WHERE (salary_from is not NULL or salary_to is not NULL)\n",
        "        '''"
      ]
    },
    {
      "cell_type": "code",
      "execution_count": 22,
      "id": "rhvwaMDkoWTi",
      "metadata": {
        "id": "rhvwaMDkoWTi"
      },
      "outputs": [
        {
          "name": "stdout",
          "output_type": "stream",
          "text": [
            "     cnt\n",
            "0  24073\n"
          ]
        },
        {
          "name": "stderr",
          "output_type": "stream",
          "text": [
            "C:\\Users\\Artur.Abaidulov\\AppData\\Local\\Temp\\ipykernel_23508\\1648207881.py:2: UserWarning: pandas only supports SQLAlchemy connectable (engine/connection) or database string URI or sqlite3 DBAPI2 connection. Other DBAPI2 objects are not tested. Please consider using SQLAlchemy.\n",
            "  df_4_2 = pd.read_sql_query(query_4_2, connection)\n"
          ]
        }
      ],
      "source": [
        "# результат запроса\n",
        "df_4_2 = pd.read_sql_query(query_4_2, connection)\n",
        "print(df_4_2)\n"
      ]
    },
    {
      "cell_type": "markdown",
      "id": "635c4d5d-f323-4c66-b428-50a088120aa0",
      "metadata": {
        "id": "635c4d5d-f323-4c66-b428-50a088120aa0"
      },
      "source": [
        "3. Найдите средние значения для нижней и верхней границы зарплатной вилки. Округлите значения до целого."
      ]
    },
    {
      "cell_type": "code",
      "execution_count": 23,
      "id": "603cdbe4-0ec3-4106-8eaf-c73fcdd29165",
      "metadata": {
        "id": "603cdbe4-0ec3-4106-8eaf-c73fcdd29165"
      },
      "outputs": [],
      "source": [
        "# текст запроса\n",
        "query_4_3 = f'''SELECT\n",
        "                ROUND(AVG(salary_to)) as max,\n",
        "                ROUND(AVG(salary_from)) as min\n",
        "            FROM\n",
        "                vacancies v \n",
        "         '''"
      ]
    },
    {
      "cell_type": "code",
      "execution_count": 24,
      "id": "pswpAb66ovZZ",
      "metadata": {
        "id": "pswpAb66ovZZ"
      },
      "outputs": [
        {
          "name": "stdout",
          "output_type": "stream",
          "text": [
            "        max      min\n",
            "0  110537.0  71065.0\n"
          ]
        },
        {
          "name": "stderr",
          "output_type": "stream",
          "text": [
            "C:\\Users\\Artur.Abaidulov\\AppData\\Local\\Temp\\ipykernel_23508\\78768766.py:2: UserWarning: pandas only supports SQLAlchemy connectable (engine/connection) or database string URI or sqlite3 DBAPI2 connection. Other DBAPI2 objects are not tested. Please consider using SQLAlchemy.\n",
            "  df_4_3 = pd.read_sql_query(query_4_3, connection)\n"
          ]
        }
      ],
      "source": [
        "# результат запроса\n",
        "df_4_3 = pd.read_sql_query(query_4_3, connection)\n",
        "print(df_4_3)\n"
      ]
    },
    {
      "cell_type": "markdown",
      "id": "f3fdaec9-5fd3-4260-9cf5-1d7406b628a5",
      "metadata": {
        "id": "f3fdaec9-5fd3-4260-9cf5-1d7406b628a5"
      },
      "source": [
        "4. Напишите запрос, который выведет количество вакансий для каждого сочетания типа рабочего графика (schedule) и типа трудоустройства (employment), используемого в вакансиях. Результат отсортируйте по убыванию количества.\n"
      ]
    },
    {
      "cell_type": "code",
      "execution_count": 25,
      "id": "1ea710ec-871b-431e-9462-c7d0fd87011b",
      "metadata": {
        "id": "1ea710ec-871b-431e-9462-c7d0fd87011b"
      },
      "outputs": [],
      "source": [
        "# текст запроса\n",
        "query_4_4 = f'''with schedule_tmp  as (SELECT\n",
        "                DISTINCT v.schedule  \n",
        "            FROM\n",
        "                vacancies v),\n",
        "\n",
        "            employment_tmp as (SELECT\n",
        "                DISTINCT v.employment  \n",
        "            FROM\n",
        "                vacancies v),\n",
        "            s_e_tmp as (\n",
        "            select * FROM employment_tmp join schedule_tmp ON TRUE)\n",
        "\n",
        "            select \n",
        "                set.employment,\n",
        "                set.schedule,\n",
        "                count(v.id)\n",
        "            FROM\n",
        "                vacancies v JOIN s_e_tmp set ON (set.employment = v.employment AND set.schedule = v.schedule)\n",
        "            GROUP BY set.employment, set.schedule\n",
        "            ORDER BY 3 DESC\n",
        "\n",
        "         '''"
      ]
    },
    {
      "cell_type": "code",
      "execution_count": 26,
      "id": "lGUVqavdo4JQ",
      "metadata": {
        "id": "lGUVqavdo4JQ"
      },
      "outputs": [
        {
          "name": "stdout",
          "output_type": "stream",
          "text": [
            "             employment          schedule  count\n",
            "0      Полная занятость       Полный день  35367\n",
            "1      Полная занятость  Удаленная работа   7802\n",
            "2      Полная занятость     Гибкий график   1593\n",
            "3   Частичная занятость  Удаленная работа   1312\n",
            "4      Полная занятость    Сменный график    940\n",
            "5            Стажировка       Полный день    569\n",
            "6      Полная занятость    Вахтовый метод    367\n",
            "7   Частичная занятость       Полный день    347\n",
            "8   Частичная занятость     Гибкий график    312\n",
            "9      Проектная работа       Полный день    141\n",
            "10     Проектная работа  Удаленная работа    133\n",
            "11           Стажировка     Гибкий график    116\n",
            "12  Частичная занятость    Сменный график    101\n",
            "13           Стажировка  Удаленная работа     64\n",
            "14     Проектная работа     Гибкий график     18\n",
            "15           Стажировка    Сменный график     12\n",
            "16     Проектная работа    Вахтовый метод      2\n",
            "17     Проектная работа    Сменный график      1\n"
          ]
        },
        {
          "name": "stderr",
          "output_type": "stream",
          "text": [
            "C:\\Users\\Artur.Abaidulov\\AppData\\Local\\Temp\\ipykernel_23508\\2038540691.py:2: UserWarning: pandas only supports SQLAlchemy connectable (engine/connection) or database string URI or sqlite3 DBAPI2 connection. Other DBAPI2 objects are not tested. Please consider using SQLAlchemy.\n",
            "  df_4_4 = pd.read_sql_query(query_4_4, connection)\n"
          ]
        }
      ],
      "source": [
        "# результат запроса\n",
        "df_4_4 = pd.read_sql_query(query_4_4, connection)\n",
        "print(df_4_4)"
      ]
    },
    {
      "cell_type": "markdown",
      "id": "0136ffee-0ead-4a6b-b608-61d1c753a438",
      "metadata": {
        "id": "0136ffee-0ead-4a6b-b608-61d1c753a438"
      },
      "source": [
        "5. Напишите запрос, выводящий значения поля Требуемый опыт работы (experience) в порядке возрастания количества вакансий, в которых указан данный вариант опыта. "
      ]
    },
    {
      "cell_type": "code",
      "execution_count": 27,
      "id": "5b3a8e79-f7ab-4008-b767-12aea3a205ea",
      "metadata": {
        "id": "5b3a8e79-f7ab-4008-b767-12aea3a205ea"
      },
      "outputs": [],
      "source": [
        "# текст запроса\n",
        "query_4_5 = f'''with exp_tmp as (select \n",
        "                v.experience    \n",
        "            FROM\n",
        "                vacancies v\n",
        "            GROUP BY experience)\n",
        "            \n",
        "            SELECT\n",
        "                e.experience,\n",
        "                count(v.experience)\n",
        "            FROM\n",
        "                vacancies v\n",
        "                JOIN exp_tmp e ON e.experience = v.experience\n",
        "                GROUP BY e.experience\n",
        "                ORDER BY 2\n",
        "         '''\n"
      ]
    },
    {
      "cell_type": "code",
      "execution_count": 28,
      "id": "3Is64Y-hpDpq",
      "metadata": {
        "id": "3Is64Y-hpDpq"
      },
      "outputs": [
        {
          "name": "stdout",
          "output_type": "stream",
          "text": [
            "           experience  count\n",
            "0         Более 6 лет   1337\n",
            "1           Нет опыта   7197\n",
            "2       От 3 до 6 лет  14511\n",
            "3  От 1 года до 3 лет  26152\n"
          ]
        },
        {
          "name": "stderr",
          "output_type": "stream",
          "text": [
            "C:\\Users\\Artur.Abaidulov\\AppData\\Local\\Temp\\ipykernel_23508\\1045726932.py:2: UserWarning: pandas only supports SQLAlchemy connectable (engine/connection) or database string URI or sqlite3 DBAPI2 connection. Other DBAPI2 objects are not tested. Please consider using SQLAlchemy.\n",
            "  df_4_5 = pd.read_sql_query(query_4_5, connection)\n"
          ]
        }
      ],
      "source": [
        "# результат запроса\n",
        "df_4_5 = pd.read_sql_query(query_4_5, connection)\n",
        "print(df_4_5)\n"
      ]
    },
    {
      "cell_type": "markdown",
      "id": "oq2b7n1QpIka",
      "metadata": {
        "id": "oq2b7n1QpIka"
      },
      "source": [
        "***"
      ]
    },
    {
      "attachments": {},
      "cell_type": "markdown",
      "id": "2eee6ad9",
      "metadata": {},
      "source": [
        "<h3> выводы по детальному анализу данных </h3>\n",
        "\n",
        "Проведя предложенный более детальный анализ таблиц мы видим:\n",
        "<p>\n",
        "1. Количество вакансий больше в крупных городах и уменьшается к регионалным.<br>\n",
        "2. Около половины соискателей заполняет поле с желаемыми границами зарплаты <br>\n",
        "3. Около 70% соискателей предпочитают работать полный рабочий день с полной занятостью <br>\n",
        "Около 15% соискателей предпочитают работать полный рабочий день удаленно. И 15% другие виды занятости <br>\n",
        "4. Более ~70% соискателей  люди которые получили небольшой опыт или вообще его не имели <br>\n",
        "~28% людей со средним опытом работы. И лишь 2% людей с большим опытом. <br>\n",
        "Что позволяет нам сделать вывод, что опытные работники не стремятся менять работу</p>\n"
      ]
    },
    {
      "cell_type": "markdown",
      "id": "7ea20ab6-04a7-40a0-adec-443a0e5a42c3",
      "metadata": {
        "id": "7ea20ab6-04a7-40a0-adec-443a0e5a42c3"
      },
      "source": [
        "# Юнит 5. Анализ работодателей"
      ]
    },
    {
      "cell_type": "markdown",
      "id": "968aed80-74ef-4ffb-b5bf-c65b84e9caea",
      "metadata": {
        "id": "968aed80-74ef-4ffb-b5bf-c65b84e9caea"
      },
      "source": [
        "1. Напишите запрос, который позволит узнать, какие работодатели находятся на первом и пятом месте по количеству вакансий."
      ]
    },
    {
      "cell_type": "code",
      "execution_count": 29,
      "id": "f2d62796-d400-4ec1-a675-88112739a50e",
      "metadata": {
        "id": "f2d62796-d400-4ec1-a675-88112739a50e"
      },
      "outputs": [],
      "source": [
        "# текст запроса\n",
        "query_5_1 = f'''SELECT\n",
        "                e.name,\n",
        "                count(v.employer_id) as cnt\n",
        "            FROM\n",
        "                employers e\n",
        "                JOIN vacancies v ON v.employer_id = e.id\n",
        "            GROUP BY 1\n",
        "            ORDER BY 2 DESC \n",
        "            LIMIT 5\n",
        "         '''"
      ]
    },
    {
      "cell_type": "code",
      "execution_count": 30,
      "id": "64tOMkAxqkQk",
      "metadata": {
        "id": "64tOMkAxqkQk"
      },
      "outputs": [
        {
          "name": "stdout",
          "output_type": "stream",
          "text": [
            "name    Яндекс\n",
            "cnt       1933\n",
            "Name: 0, dtype: object \n",
            " name    Газпром нефть\n",
            "cnt               331\n",
            "Name: 4, dtype: object\n"
          ]
        },
        {
          "name": "stderr",
          "output_type": "stream",
          "text": [
            "C:\\Users\\Artur.Abaidulov\\AppData\\Local\\Temp\\ipykernel_23508\\3009691854.py:2: UserWarning: pandas only supports SQLAlchemy connectable (engine/connection) or database string URI or sqlite3 DBAPI2 connection. Other DBAPI2 objects are not tested. Please consider using SQLAlchemy.\n",
            "  df_5_1 = pd.read_sql_query(query_5_1, connection)\n"
          ]
        }
      ],
      "source": [
        "# результат запроса\n",
        "df_5_1 = pd.read_sql_query(query_5_1, connection)\n",
        "print(df_5_1.iloc[0],\"\\n\", df_5_1.iloc[4])"
      ]
    },
    {
      "cell_type": "markdown",
      "id": "68377cfc-b378-43dc-ab7d-1195abf2c515",
      "metadata": {
        "id": "68377cfc-b378-43dc-ab7d-1195abf2c515"
      },
      "source": [
        "2. Напишите запрос, который для каждого региона выведет количество работодателей и вакансий в нём.\n",
        "Среди регионов, в которых нет вакансий, найдите тот, в котором наибольшее количество работодателей.\n"
      ]
    },
    {
      "cell_type": "code",
      "execution_count": 31,
      "id": "dd7df27a-e3e8-412e-a21a-5d389b71e891",
      "metadata": {
        "id": "dd7df27a-e3e8-412e-a21a-5d389b71e891"
      },
      "outputs": [],
      "source": [
        "# текст запроса\n",
        "query_5_2 = f'''with e_area_count as (SELECT\n",
        "                e.area,\n",
        "                count(e.id) as employer_cnt\n",
        "            FROM\n",
        "                employers e\n",
        "            GROUP BY 1),\n",
        "\n",
        "            v_area_count as (SELECT\n",
        "                v.area_id,\n",
        "                count(v.id) as vac_cnt\n",
        "            FROM\n",
        "                vacancies v\n",
        "            GROUP BY 1)\n",
        "\n",
        "\n",
        "        SELECT\n",
        "            employer_cnt, vac_cnt, name\n",
        "        FROM\n",
        "            areas a \n",
        "            LEFT JOIN e_area_count e ON e.area = a.id\n",
        "            LEFT JOIN v_area_count v ON v.area_id = a.id\n",
        "        WHERE employer_cnt IS NOT NULL \n",
        "            ORDER BY 2 DESC, 1\n",
        "         '''\n"
      ]
    },
    {
      "cell_type": "code",
      "execution_count": 32,
      "id": "x1ikWbydrbf6",
      "metadata": {
        "id": "x1ikWbydrbf6"
      },
      "outputs": [
        {
          "name": "stderr",
          "output_type": "stream",
          "text": [
            "C:\\Users\\Artur.Abaidulov\\AppData\\Local\\Temp\\ipykernel_23508\\1510520429.py:2: UserWarning: pandas only supports SQLAlchemy connectable (engine/connection) or database string URI or sqlite3 DBAPI2 connection. Other DBAPI2 objects are not tested. Please consider using SQLAlchemy.\n",
            "  df_5_2 = pd.read_sql_query(query_5_2, connection)\n"
          ]
        },
        {
          "name": "stdout",
          "output_type": "stream",
          "text": [
            "     employer_cnt  vac_cnt                                   name\n",
            "0               1      NaN                       Хабаровский край\n",
            "1               1      NaN  Радужный (Ханты-Мансийский АО - Югра)\n",
            "2               1      NaN                                 Рыбное\n",
            "3               1      NaN                                  Венев\n",
            "4               1      NaN                         Усть-Ордынский\n",
            "..            ...      ...                                    ...\n",
            "649             2      1.0        Радужный (Владимирская область)\n",
            "650             2      1.0                               Белорецк\n",
            "651             2      1.0                                 Балхаш\n",
            "652             3      1.0                                    Бор\n",
            "653             3      1.0                                  Китай\n",
            "\n",
            "[654 rows x 3 columns]\n",
            "185    Россия\n",
            "Name: name, dtype: object\n"
          ]
        }
      ],
      "source": [
        "# результат запроса\n",
        "df_5_2 = pd.read_sql_query(query_5_2, connection)\n",
        "print(df_5_2)\n",
        "print(df_5_2[df_5_2[\"vac_cnt\"].isna()][['name', 'employer_cnt']].tail(1)['name'])"
      ]
    },
    {
      "cell_type": "markdown",
      "id": "f2fe0acb-ab1a-4e15-9326-2560e22d73c1",
      "metadata": {
        "id": "f2fe0acb-ab1a-4e15-9326-2560e22d73c1"
      },
      "source": [
        "3. Для каждого работодателя посчитайте количество регионов, в которых он публикует свои вакансии. Отсортируйте результат по убыванию количества.\n"
      ]
    },
    {
      "cell_type": "code",
      "execution_count": 33,
      "id": "6271f8ad-bd2e-4196-ae4a-5b39c4c1010e",
      "metadata": {
        "id": "6271f8ad-bd2e-4196-ae4a-5b39c4c1010e"
      },
      "outputs": [],
      "source": [
        "# текст запроса\n",
        "query_5_3 = f'''SELECT\n",
        "                e.name,\n",
        "                count(DISTINCT v.area_id) as area_cnt \n",
        "            FROM\n",
        "                vacancies v \n",
        "                JOIN employers e ON v.employer_id = e.id\n",
        "            GROUP BY e.name\n",
        "            ORDER BY area_cnt DESC\n",
        "            \n",
        "            '''\n",
        "\n"
      ]
    },
    {
      "cell_type": "code",
      "execution_count": 34,
      "id": "1EIvX3HasH4F",
      "metadata": {
        "id": "1EIvX3HasH4F"
      },
      "outputs": [
        {
          "name": "stderr",
          "output_type": "stream",
          "text": [
            "C:\\Users\\Artur.Abaidulov\\AppData\\Local\\Temp\\ipykernel_23508\\1496354524.py:2: UserWarning: pandas only supports SQLAlchemy connectable (engine/connection) or database string URI or sqlite3 DBAPI2 connection. Other DBAPI2 objects are not tested. Please consider using SQLAlchemy.\n",
            "  df_5_3 = pd.read_sql_query(query_5_3, connection)\n"
          ]
        },
        {
          "name": "stdout",
          "output_type": "stream",
          "text": [
            "                         name  area_cnt\n",
            "0                      Яндекс       181\n",
            "1                  Ростелеком       152\n",
            "2                  Спецремонт       116\n",
            "3      Поляков Денис Иванович        88\n",
            "4                   ООО ЕФИН         71\n",
            "...                       ...       ...\n",
            "14761                  UniSol         1\n",
            "14762            UNISTORY LLC         1\n",
            "14763                   UNIT6         1\n",
            "14764     United Distribution         1\n",
            "14765              UNITEL LLC         1\n",
            "\n",
            "[14766 rows x 2 columns]\n"
          ]
        }
      ],
      "source": [
        "# результат запроса\n",
        "df_5_3 = pd.read_sql_query(query_5_3, connection)\n",
        "print(df_5_3)"
      ]
    },
    {
      "cell_type": "markdown",
      "id": "eab2206d-d95b-468b-8e5f-34381abf0ce7",
      "metadata": {
        "id": "eab2206d-d95b-468b-8e5f-34381abf0ce7"
      },
      "source": [
        "4. Напишите запрос для подсчёта количества работодателей, у которых не указана сфера деятельности. "
      ]
    },
    {
      "cell_type": "code",
      "execution_count": 35,
      "id": "80defb23-bfb1-4a18-8be6-bf36aa7165d5",
      "metadata": {
        "id": "80defb23-bfb1-4a18-8be6-bf36aa7165d5"
      },
      "outputs": [],
      "source": [
        "# текст запроса\n",
        "query_5_4 = f'''with conuter as (SELECT\n",
        "                count( ei.industry_id) \n",
        "\n",
        "            FROM\n",
        "                EMPLOYERS_INDUSTRIES ei\n",
        "                right join employers e ON e.id = ei.employer_id \n",
        "            where ei.employer_id IS NULL\n",
        "            GROUP BY e.id)\n",
        "            \n",
        "            select \n",
        "                count(*)\n",
        "            FROM \n",
        "                conuter\n",
        "\n",
        "         '''\n"
      ]
    },
    {
      "cell_type": "code",
      "execution_count": 36,
      "id": "Dp_yCx6ysQSu",
      "metadata": {
        "id": "Dp_yCx6ysQSu"
      },
      "outputs": [
        {
          "name": "stdout",
          "output_type": "stream",
          "text": [
            "   count\n",
            "0   8419\n"
          ]
        },
        {
          "name": "stderr",
          "output_type": "stream",
          "text": [
            "C:\\Users\\Artur.Abaidulov\\AppData\\Local\\Temp\\ipykernel_23508\\3675082845.py:2: UserWarning: pandas only supports SQLAlchemy connectable (engine/connection) or database string URI or sqlite3 DBAPI2 connection. Other DBAPI2 objects are not tested. Please consider using SQLAlchemy.\n",
            "  df_5_4 = pd.read_sql_query(query_5_4, connection)\n"
          ]
        }
      ],
      "source": [
        "# результат запроса\n",
        "df_5_4 = pd.read_sql_query(query_5_4, connection)\n",
        "print(df_5_4)"
      ]
    },
    {
      "cell_type": "markdown",
      "id": "0112af31-f6b0-4e3b-82ab-71296e752e5e",
      "metadata": {
        "id": "0112af31-f6b0-4e3b-82ab-71296e752e5e"
      },
      "source": [
        "5. Напишите запрос, чтобы узнать название компании, находящейся на третьем месте в алфавитном списке (по названию) компаний, у которых указано четыре сферы деятельности. "
      ]
    },
    {
      "cell_type": "code",
      "execution_count": 37,
      "id": "973b0cfc-a972-470a-8b4a-68744ef220c4",
      "metadata": {
        "id": "973b0cfc-a972-470a-8b4a-68744ef220c4"
      },
      "outputs": [],
      "source": [
        "# текст запроса\n",
        "query_5_5 = f'''with conuter as (SELECT\n",
        "                e.name,\n",
        "                count( ei.industry_id) \n",
        "\n",
        "            FROM\n",
        "                EMPLOYERS_INDUSTRIES ei\n",
        "                right join employers e ON e.id = ei.employer_id \n",
        "            GROUP BY e.id)\n",
        "            \n",
        "            select \n",
        "                name\n",
        "            FROM \n",
        "                conuter\n",
        "            WHERE count = 4\n",
        "            ORDER BY name\n",
        "            OFFSET 2 \n",
        "            LIMIT 1\n",
        "         '''"
      ]
    },
    {
      "cell_type": "code",
      "execution_count": 38,
      "id": "xsPtpp8EsaED",
      "metadata": {
        "id": "xsPtpp8EsaED"
      },
      "outputs": [
        {
          "name": "stdout",
          "output_type": "stream",
          "text": [
            "   name\n",
            "0  2ГИС\n"
          ]
        },
        {
          "name": "stderr",
          "output_type": "stream",
          "text": [
            "C:\\Users\\Artur.Abaidulov\\AppData\\Local\\Temp\\ipykernel_23508\\1922466895.py:2: UserWarning: pandas only supports SQLAlchemy connectable (engine/connection) or database string URI or sqlite3 DBAPI2 connection. Other DBAPI2 objects are not tested. Please consider using SQLAlchemy.\n",
            "  df_5_5 = pd.read_sql_query(query_5_5, connection)\n"
          ]
        }
      ],
      "source": [
        "# результат запроса\n",
        "df_5_5 = pd.read_sql_query(query_5_5, connection)\n",
        "print(df_5_5)"
      ]
    },
    {
      "cell_type": "markdown",
      "id": "3bfcfdaf-755d-4d2b-8ed8-326201dc07ab",
      "metadata": {
        "id": "3bfcfdaf-755d-4d2b-8ed8-326201dc07ab"
      },
      "source": [
        "6. С помощью запроса выясните, у какого количества работодателей в качестве сферы деятельности указана Разработка программного обеспечения.\n"
      ]
    },
    {
      "cell_type": "code",
      "execution_count": 39,
      "id": "ad3f270f-2991-47eb-929b-e8f88a55b0d1",
      "metadata": {
        "id": "ad3f270f-2991-47eb-929b-e8f88a55b0d1"
      },
      "outputs": [],
      "source": [
        "# текст запроса\n",
        "query_5_6 = f'''SELECT\n",
        "                count( ei.employer_id) \n",
        "            FROM\n",
        "                EMPLOYERS_INDUSTRIES ei\n",
        "                JOIN INDUSTRIES i ON ei.industry_id = i.id\n",
        "            WHERE i.name = 'Разработка программного обеспечения'\n",
        "         '''\n",
        "\n"
      ]
    },
    {
      "cell_type": "code",
      "execution_count": 40,
      "id": "H72qxWM0shPR",
      "metadata": {
        "id": "H72qxWM0shPR"
      },
      "outputs": [
        {
          "name": "stdout",
          "output_type": "stream",
          "text": [
            "   count\n",
            "0   3553\n"
          ]
        },
        {
          "name": "stderr",
          "output_type": "stream",
          "text": [
            "C:\\Users\\Artur.Abaidulov\\AppData\\Local\\Temp\\ipykernel_23508\\4288990653.py:2: UserWarning: pandas only supports SQLAlchemy connectable (engine/connection) or database string URI or sqlite3 DBAPI2 connection. Other DBAPI2 objects are not tested. Please consider using SQLAlchemy.\n",
            "  df_5_6 = pd.read_sql_query(query_5_6, connection)\n"
          ]
        }
      ],
      "source": [
        "# результат запроса\n",
        "df_5_6 = pd.read_sql_query(query_5_6, connection)\n",
        "print(df_5_6)"
      ]
    },
    {
      "cell_type": "markdown",
      "id": "7b02bb86-0546-40fb-94a4-242f050a5c57",
      "metadata": {
        "id": "7b02bb86-0546-40fb-94a4-242f050a5c57"
      },
      "source": [
        "7. Для компании «Яндекс» выведите список регионов-миллионников, в которых представлены вакансии компании, вместе с количеством вакансий в этих регионах. Также добавьте строку Total с общим количеством вакансий компании. Результат отсортируйте по возрастанию количества.\n",
        "\n",
        "Список городов-милионников надо взять [отсюда](https://ru.wikipedia.org/wiki/%D0%93%D0%BE%D1%80%D0%BE%D0%B4%D0%B0-%D0%BC%D0%B8%D0%BB%D0%BB%D0%B8%D0%BE%D0%BD%D0%B5%D1%80%D1%8B_%D0%A0%D0%BE%D1%81%D1%81%D0%B8%D0%B8). \n",
        "\n",
        "Если возникнут трудности с этим задание посмотрите материалы модуля  PYTHON-17. Как получать данные из веб-источников и API. "
      ]
    },
    {
      "cell_type": "code",
      "execution_count": 41,
      "id": "ZdfrL6gIs1Pn",
      "metadata": {
        "id": "ZdfrL6gIs1Pn"
      },
      "outputs": [
        {
          "name": "stdout",
          "output_type": "stream",
          "text": [
            "['Москва', 'Санкт-Петербург', 'Новосибирск', 'Екатеринбург', 'Казань', 'Нижний Новгород', 'Челябинск', 'Красноярск', 'Самара', 'Уфа', 'Ростов-на-Дону', 'Омск', 'Краснодар', 'Воронеж[a]', 'Пермь', 'Волгоград']\n",
            "16\n",
            "a.name = 'Москва' OR a.name = 'Санкт-Петербург' OR a.name = 'Новосибирск' OR a.name = 'Екатеринбург' OR a.name = 'Казань' OR a.name = 'Нижний Новгород' OR a.name = 'Челябинск' OR a.name = 'Красноярск' OR a.name = 'Самара' OR a.name = 'Уфа' OR a.name = 'Ростов-на-Дону' OR a.name = 'Омск' OR a.name = 'Краснодар' OR a.name = 'Воронеж[a]' OR a.name = 'Пермь' OR a.name = 'Волгоград' \n"
          ]
        }
      ],
      "source": [
        "# код для получения списка городов-милионников\n",
        "\n",
        "# Данный способ позволяет получить списко городов миллионников с википедии до тех пор пока страница википедии не поменяется.\n",
        "from bs4 import BeautifulSoup\n",
        "import requests\n",
        "def rebuild_table_as_list(html_table):\n",
        "    '''\n",
        "    Функция преобразует строки таблицы в переменную типа list\n",
        "    и записывает каждую строку в общую переменную типа list \n",
        "    '''\n",
        "    data = []\n",
        "    for element in html_table:\n",
        "        sub_data = []\n",
        "        for sub_element in element:\n",
        "            try:\n",
        "                if sub_element.get_text() != \"\\n\":\n",
        "                    sub_data.append(sub_element.get_text())\n",
        "            except:\n",
        "                continue\n",
        "        data.append(sub_data)\n",
        "    return data\n",
        "\n",
        "url = 'https://ru.wikipedia.org/wiki/%D0%93%D0%BE%D1%80%D0%BE%D0%B4%D0%B0-%D0%BC%D0%B8%D0%BB%D0%BB%D0%B8%D0%BE%D0%BD%D0%B5%D1%80%D1%8B_%D0%A0%D0%BE%D1%81%D1%81%D0%B8%D0%B8'\n",
        "response = requests.get(url)\n",
        "soup = BeautifulSoup(response.content)\n",
        "table = soup.find(\"table\", class_=\"standard sortable\").find_all(\"tr\")[1:]\n",
        "table = rebuild_table_as_list(table)\n",
        "city_million = []\n",
        "for city in table:\n",
        "    city_million.append(city[1])\n",
        "print(city_million)\n",
        "print(len(city_million))\n",
        "sql_string = ''''''\n",
        "for element_num in range(len(city_million)):\n",
        "    if element_num != (len(city_million) - 1):\n",
        "        sql_string = sql_string + f'''a.name = '{city_million[element_num]}' OR ''' \n",
        "    else:\n",
        "        sql_string = sql_string + f'''a.name = '{city_million[element_num]}' '''\n",
        "print(sql_string)"
      ]
    },
    {
      "cell_type": "code",
      "execution_count": 42,
      "id": "5a0e32a4-e68a-4365-8a39-2fe24c542c36",
      "metadata": {
        "id": "5a0e32a4-e68a-4365-8a39-2fe24c542c36"
      },
      "outputs": [],
      "source": [
        "# текст запроса\n",
        "query_5_7 = f'''with yandex_city_mln as (SELECT\n",
        "                v.id as vid,\n",
        "                v.area_id\n",
        "            FROM\n",
        "                employers e\n",
        "                JOIN vacancies v  ON v.employer_id  = e.id \n",
        "            WHERE e.name = 'Яндекс' \n",
        "            GROUP BY vid, e.area\n",
        "            )\n",
        "            ,\n",
        "            final as (SELECT \n",
        "                a.name,\n",
        "                count(area_id) as cnt\n",
        "            FROM \n",
        "                yandex_city_mln y\n",
        "                JOIN areas a ON y.area_id = a.id \n",
        "            WHERE ({sql_string})\n",
        "            GROUP BY a.name)\n",
        "\n",
        "            SELECT\n",
        "                *\n",
        "            FROM \n",
        "                final\n",
        "            \n",
        "            UNION ALL\n",
        "            SELECT\n",
        "             'Total',\n",
        "                SUM(cnt) as cnt\n",
        "            FROM \n",
        "                final\n",
        "         '''"
      ]
    },
    {
      "cell_type": "code",
      "execution_count": 43,
      "id": "ttPhiO1rsvPq",
      "metadata": {
        "id": "ttPhiO1rsvPq"
      },
      "outputs": [
        {
          "name": "stdout",
          "output_type": "stream",
          "text": [
            "               name    cnt\n",
            "0         Волгоград   24.0\n",
            "1      Екатеринбург   39.0\n",
            "2            Казань   25.0\n",
            "3         Краснодар   30.0\n",
            "4        Красноярск   23.0\n",
            "5            Москва   54.0\n",
            "6   Нижний Новгород   36.0\n",
            "7       Новосибирск   35.0\n",
            "8              Омск   21.0\n",
            "9             Пермь   25.0\n",
            "10   Ростов-на-Дону   25.0\n",
            "11           Самара   26.0\n",
            "12  Санкт-Петербург   42.0\n",
            "13              Уфа   26.0\n",
            "14        Челябинск   22.0\n",
            "15            Total  453.0\n"
          ]
        },
        {
          "name": "stderr",
          "output_type": "stream",
          "text": [
            "C:\\Users\\Artur.Abaidulov\\AppData\\Local\\Temp\\ipykernel_23508\\300231338.py:2: UserWarning: pandas only supports SQLAlchemy connectable (engine/connection) or database string URI or sqlite3 DBAPI2 connection. Other DBAPI2 objects are not tested. Please consider using SQLAlchemy.\n",
            "  df_5_7 = pd.read_sql_query(query_5_7, connection)\n"
          ]
        }
      ],
      "source": [
        "# результат запроса\n",
        "df_5_7 = pd.read_sql_query(query_5_7, connection)\n",
        "print(df_5_7)"
      ]
    },
    {
      "cell_type": "markdown",
      "id": "04966e40-3bc3-4dc8-9ba2-e80580ce3abc",
      "metadata": {
        "id": "04966e40-3bc3-4dc8-9ba2-e80580ce3abc"
      },
      "source": [
        "***"
      ]
    },
    {
      "attachments": {},
      "cell_type": "markdown",
      "id": "c80524a2",
      "metadata": {},
      "source": [
        "<h3>Вывод по анализу работодателей</h3>\n",
        "\n",
        "Из выполненных запросов мы можем сделать следующий вывод.\n",
        "<p>\n",
        "1. Компания Яндекс имеет самое большое количество вакансий среди работодателей, <br> так же как и количество регионов в которых эта компания разместила вакансии. \n",
        "даже не зная что такое яндекс можем прдеположить, что это крупная компания.<br> Подтверждением этого служет запрос по количество вакансий в разлиынх городах миллионниках.<br>\n",
        "Они более мение равномерно одинаково распределны. <i>(исключение Москва, Санкт-Петербург и Екатеренбург)</i><br>\n",
        "2. ~ 35% компании не уазали сферу дейтельности <br>\n",
        "3. ~ 15% компаний занимаются разработкой программного обеспечения.<br>\n",
        "</p>\n",
        "\n",
        "<i>Если какие то запросы сдесь не учавстовали в выодах мне просто нечего о них сказать.</i>\n",
        "\n"
      ]
    },
    {
      "cell_type": "code",
      "execution_count": 44,
      "id": "aGGyER-yt4SR",
      "metadata": {
        "id": "aGGyER-yt4SR"
      },
      "outputs": [],
      "source": [
        "# выводы по анализу работодателей\n"
      ]
    },
    {
      "cell_type": "markdown",
      "id": "b1ef156a-efcb-49ce-bb23-90763e7f35b2",
      "metadata": {
        "id": "b1ef156a-efcb-49ce-bb23-90763e7f35b2",
        "tags": []
      },
      "source": [
        "# Юнит 6. Предметный анализ"
      ]
    },
    {
      "cell_type": "markdown",
      "id": "b9cd50a0-992d-4988-8463-2b2b1c4629b4",
      "metadata": {
        "id": "b9cd50a0-992d-4988-8463-2b2b1c4629b4"
      },
      "source": [
        "1. Сколько вакансий имеет отношение к данным?\n",
        "\n",
        "Считаем, что вакансия имеет отношение к данным, если в её названии содержатся слова 'data' или 'данн'.\n",
        "\n",
        "*Подсказка: Обратите внимание, что названия вакансий могут быть написаны в любом регистре.* \n"
      ]
    },
    {
      "cell_type": "code",
      "execution_count": 45,
      "id": "54ab0e50-c0f1-47cc-a54b-bc5c8bc363f9",
      "metadata": {
        "id": "54ab0e50-c0f1-47cc-a54b-bc5c8bc363f9"
      },
      "outputs": [],
      "source": [
        "# текст запроса\n",
        "query_6_1 = f'''with data_like as (SELECT\n",
        "                v.name,\n",
        "                count(v.name) as cnt\n",
        "            FROM\n",
        "                vacancies v\n",
        "            WHERE (name ilike '%data%' or name ilike '%данн%')\n",
        "            GROUP BY v.name)\n",
        "\n",
        "            SELECT\n",
        "                SUM(cnt) as sum\n",
        "            FROM \n",
        "                data_like\n",
        "         '''"
      ]
    },
    {
      "cell_type": "code",
      "execution_count": 46,
      "id": "9F1meAqsuUjd",
      "metadata": {
        "id": "9F1meAqsuUjd"
      },
      "outputs": [
        {
          "name": "stderr",
          "output_type": "stream",
          "text": [
            "C:\\Users\\Artur.Abaidulov\\AppData\\Local\\Temp\\ipykernel_23508\\2355451921.py:2: UserWarning: pandas only supports SQLAlchemy connectable (engine/connection) or database string URI or sqlite3 DBAPI2 connection. Other DBAPI2 objects are not tested. Please consider using SQLAlchemy.\n",
            "  df_6_1 = pd.read_sql_query(query_6_1, connection)\n"
          ]
        },
        {
          "name": "stdout",
          "output_type": "stream",
          "text": [
            "      sum\n",
            "0  1771.0\n"
          ]
        }
      ],
      "source": [
        "# результат запроса\n",
        "df_6_1 = pd.read_sql_query(query_6_1, connection)\n",
        "print(df_6_1)"
      ]
    },
    {
      "cell_type": "markdown",
      "id": "4dea20cb-a36b-474a-a0b9-e08e8e3857a5",
      "metadata": {
        "id": "4dea20cb-a36b-474a-a0b9-e08e8e3857a5"
      },
      "source": [
        "2. Сколько есть подходящих вакансий для начинающего дата-сайентиста? \n",
        "Будем считать вакансиями для дата-сайентистов такие, в названии которых есть хотя бы одно из следующих сочетаний:\n",
        "* 'data scientist'\n",
        "* 'data science'\n",
        "* 'исследователь данных'\n",
        "* 'ML' (здесь не нужно брать вакансии по HTML)\n",
        "* 'machine learning'\n",
        "* 'машинн%обучен%'\n",
        "\n",
        "** В следующих заданиях мы продолжим работать с вакансиями по этому условию.*\n",
        "\n",
        "Считаем вакансиями для специалистов уровня Junior следующие:\n",
        "* в названии есть слово 'junior' *или*\n",
        "* требуемый опыт — Нет опыта *или*\n",
        "* тип трудоустройства — Стажировка.\n",
        " "
      ]
    },
    {
      "cell_type": "code",
      "execution_count": 47,
      "id": "9c61b3c0-bb66-46c9-ae1e-81d3f5752b4a",
      "metadata": {
        "id": "9c61b3c0-bb66-46c9-ae1e-81d3f5752b4a"
      },
      "outputs": [],
      "source": [
        "# текст запроса\n",
        "main_DS_request = '''name ilike '%data scientist%' or name ilike '%data science%' or \n",
        "                    name ilike '%исследователь данных%' or name ilike '%machine learning%' or \n",
        "                    name ilike '%машинн%обучен%' or (name like '%ML%' and name not ilike '%HTML%' )'''\n",
        "\n",
        "query_6_2 = f'''with data_like as (SELECT\n",
        "                v.name,\n",
        "                count(v.name) as cnt\n",
        "            FROM\n",
        "                vacancies v\n",
        "            WHERE (({main_DS_request}) AND (name ilike '%junior%' OR experience ilike '%нет опыта%' OR employment  ilike '%стажировка%'))\n",
        "            GROUP BY v.name)\n",
        "\n",
        "            SELECT\n",
        "                SUM(cnt) as sum\n",
        "                \n",
        "            FROM\n",
        "                data_like\n",
        "         '''\n"
      ]
    },
    {
      "cell_type": "code",
      "execution_count": 48,
      "id": "ZNM-LLYuu1dj",
      "metadata": {
        "id": "ZNM-LLYuu1dj"
      },
      "outputs": [
        {
          "name": "stderr",
          "output_type": "stream",
          "text": [
            "C:\\Users\\Artur.Abaidulov\\AppData\\Local\\Temp\\ipykernel_23508\\2221805990.py:2: UserWarning: pandas only supports SQLAlchemy connectable (engine/connection) or database string URI or sqlite3 DBAPI2 connection. Other DBAPI2 objects are not tested. Please consider using SQLAlchemy.\n",
            "  df_6_2 = pd.read_sql_query(query_6_2, connection)\n"
          ]
        },
        {
          "name": "stdout",
          "output_type": "stream",
          "text": [
            "    sum\n",
            "0  51.0\n"
          ]
        }
      ],
      "source": [
        "# результат запроса\n",
        "df_6_2 = pd.read_sql_query(query_6_2, connection)\n",
        "print(df_6_2)"
      ]
    },
    {
      "cell_type": "markdown",
      "id": "eedceb80-c5ca-480e-b27a-278dfb8b4438",
      "metadata": {
        "id": "eedceb80-c5ca-480e-b27a-278dfb8b4438"
      },
      "source": [
        "3. Сколько есть вакансий для DS, в которых в качестве ключевого навыка указан SQL или postgres?\n",
        "\n",
        "** Критерии для отнесения вакансии к DS указаны в предыдущем задании.*"
      ]
    },
    {
      "cell_type": "code",
      "execution_count": 49,
      "id": "69621713-0cc5-4f1b-a1d7-bb144fa6148c",
      "metadata": {
        "id": "69621713-0cc5-4f1b-a1d7-bb144fa6148c"
      },
      "outputs": [],
      "source": [
        "# текст запроса\n",
        "query_6_3 = f'''with data_like as (SELECT\n",
        "                v.name as name, \n",
        "                count(v.name) as cnt,\n",
        "                v.key_skills as skills     \n",
        "            FROM\n",
        "                vacancies v\n",
        "            WHERE (({main_DS_request}))\n",
        "            GROUP BY v.name, v.key_skills)\n",
        "\n",
        "        \n",
        "            SELECT\n",
        "                SUM(cnt) as sum\n",
        "            FROM\n",
        "                data_like\n",
        "            WHERE (skills ilike '%sql%' OR skills ilike '%postgres%')    \n",
        "         '''"
      ]
    },
    {
      "cell_type": "code",
      "execution_count": 50,
      "id": "alA8WEAAvGdf",
      "metadata": {
        "id": "alA8WEAAvGdf"
      },
      "outputs": [
        {
          "name": "stderr",
          "output_type": "stream",
          "text": [
            "C:\\Users\\Artur.Abaidulov\\AppData\\Local\\Temp\\ipykernel_23508\\3647444041.py:2: UserWarning: pandas only supports SQLAlchemy connectable (engine/connection) or database string URI or sqlite3 DBAPI2 connection. Other DBAPI2 objects are not tested. Please consider using SQLAlchemy.\n",
            "  df_6_3 = pd.read_sql_query(query_6_3, connection)\n"
          ]
        },
        {
          "name": "stdout",
          "output_type": "stream",
          "text": [
            "     sum\n",
            "0  201.0\n"
          ]
        }
      ],
      "source": [
        "# результат запроса\n",
        "df_6_3 = pd.read_sql_query(query_6_3, connection)\n",
        "print(df_6_3)\n"
      ]
    },
    {
      "cell_type": "markdown",
      "id": "1be1e9c6-37cf-4a5f-bfeb-04cab799dc80",
      "metadata": {
        "id": "1be1e9c6-37cf-4a5f-bfeb-04cab799dc80"
      },
      "source": [
        "4. Проверьте, насколько популярен Python в требованиях работодателей к DS.Для этого вычислите количество вакансий, в которых в качестве ключевого навыка указан Python.\n",
        "\n",
        "** Это можно сделать помощью запроса, аналогичного предыдущему.*"
      ]
    },
    {
      "cell_type": "code",
      "execution_count": 51,
      "id": "0036a355-9ccf-4564-8b01-73d8194297e7",
      "metadata": {
        "id": "0036a355-9ccf-4564-8b01-73d8194297e7"
      },
      "outputs": [],
      "source": [
        "# текст запроса\n",
        "query_6_4 = f'''with data_like as (SELECT\n",
        "                v.name as name, \n",
        "                count(v.name) as cnt,\n",
        "                v.key_skills as skills     \n",
        "            FROM\n",
        "                vacancies v\n",
        "            WHERE (({main_DS_request}))\n",
        "            GROUP BY v.name, v.key_skills)\n",
        "\n",
        "        \n",
        "            SELECT\n",
        "                SUM(cnt) as sum\n",
        "            FROM\n",
        "                data_like\n",
        "            WHERE (skills ilike '%python%')    \n",
        "         '''\n"
      ]
    },
    {
      "cell_type": "code",
      "execution_count": 52,
      "id": "1i-5WyucvQ6v",
      "metadata": {
        "id": "1i-5WyucvQ6v"
      },
      "outputs": [
        {
          "name": "stderr",
          "output_type": "stream",
          "text": [
            "C:\\Users\\Artur.Abaidulov\\AppData\\Local\\Temp\\ipykernel_23508\\1617735037.py:2: UserWarning: pandas only supports SQLAlchemy connectable (engine/connection) or database string URI or sqlite3 DBAPI2 connection. Other DBAPI2 objects are not tested. Please consider using SQLAlchemy.\n",
            "  df_6_4 = pd.read_sql_query(query_6_4, connection)\n"
          ]
        },
        {
          "name": "stdout",
          "output_type": "stream",
          "text": [
            "     sum\n",
            "0  351.0\n"
          ]
        }
      ],
      "source": [
        "# результат запроса\n",
        "df_6_4 = pd.read_sql_query(query_6_4, connection)\n",
        "print(df_6_4)"
      ]
    },
    {
      "cell_type": "markdown",
      "id": "ec3c8db7-fa21-4a41-a994-1af63742a642",
      "metadata": {
        "id": "ec3c8db7-fa21-4a41-a994-1af63742a642"
      },
      "source": [
        "5. Сколько ключевых навыков в среднем указывают в вакансиях для DS?\n",
        "Ответ округлите до двух знаков после точки-разделителя."
      ]
    },
    {
      "cell_type": "code",
      "execution_count": 53,
      "id": "949132bc-d5b6-4611-8218-0b9a504d74f4",
      "metadata": {
        "id": "949132bc-d5b6-4611-8218-0b9a504d74f4"
      },
      "outputs": [],
      "source": [
        "# текст запроса\n",
        "query_6_5 = f'''with data_like as (SELECT\n",
        "                v.name as name, \n",
        "                v.key_skills as skills     \n",
        "            FROM\n",
        "                vacancies v\n",
        "            WHERE (({main_DS_request}))\n",
        "            GROUP BY v.name, v.key_skills)\n",
        "\n",
        "            SELECT\n",
        "                name,\n",
        "                skills,\n",
        "                    length(skills) - length(replace(skills,CHR(9),'')) + 1 as cnt\n",
        "            FROM\n",
        "                data_like\n",
        "            WHERE skills is not NULL\n",
        "            GROUP BY name, skills\n",
        "         '''\n",
        "\n"
      ]
    },
    {
      "cell_type": "code",
      "execution_count": 54,
      "id": "a3V24Tvmviqk",
      "metadata": {
        "id": "a3V24Tvmviqk"
      },
      "outputs": [
        {
          "name": "stderr",
          "output_type": "stream",
          "text": [
            "C:\\Users\\Artur.Abaidulov\\AppData\\Local\\Temp\\ipykernel_23508\\88080016.py:2: UserWarning: pandas only supports SQLAlchemy connectable (engine/connection) or database string URI or sqlite3 DBAPI2 connection. Other DBAPI2 objects are not tested. Please consider using SQLAlchemy.\n",
            "  df_6_5 = pd.read_sql_query(query_6_5, connection)\n"
          ]
        },
        {
          "name": "stdout",
          "output_type": "stream",
          "text": [
            "-- Вспомогательная инофрмация --\n",
            "                                                  name  \\\n",
            "0                                       Data Scientist   \n",
            "1    Data Scientist/Machine Learning Engineer (Deve...   \n",
            "2                                          ML Engineer   \n",
            "3                               Data Scientist (Telco)   \n",
            "4    Junior Data Scientist Управления модельных рис...   \n",
            "..                                                 ...   \n",
            "326                       Риск-менеджер/Data Scientist   \n",
            "327                            Junior+ CV/ML developer   \n",
            "328                               Data Scientist (NLP)   \n",
            "329                                     Data Scientist   \n",
            "330                 Инженер-программист/Data Scientist   \n",
            "\n",
            "                                                skills  cnt  \n",
            "0    Python\\tSpark\\tSQL\\tDocker\\tMachine Learning\\t...    6  \n",
            "1    Machine Learning\\tDeep Learning\\tData Science\\...   10  \n",
            "2                             Python\\tGit\\tLinux\\tBash    4  \n",
            "3    Python\\tSQL\\tData Science\\tMachine Learning\\tP...    5  \n",
            "4    Математическое моделирование\\tАнализ данных\\tС...    5  \n",
            "..                                                 ...  ...  \n",
            "326     Python\\tSQL\\tSas\\tMS PowerPoint\\tАнализ данных    5  \n",
            "327          Python\\tSQL\\tРабота в команде\\tOpenCV\\tML    5  \n",
            "328    Python\\tSQL\\tМатематическая статистика\\tNLP\\tML    5  \n",
            "329  Python\\tАнглийский язык\\tTime management\\tMS P...    5  \n",
            "330  Python\\tC++\\tSQL\\tАвтоматизация технологически...    9  \n",
            "\n",
            "[331 rows x 3 columns] \n",
            "\n",
            "-- ответ -- \n",
            " cnt    6.51\n",
            "dtype: float64\n"
          ]
        },
        {
          "name": "stderr",
          "output_type": "stream",
          "text": [
            "C:\\Users\\Artur.Abaidulov\\AppData\\Local\\Temp\\ipykernel_23508\\88080016.py:6: FutureWarning: The default value of numeric_only in DataFrame.mean is deprecated. In a future version, it will default to False. In addition, specifying 'numeric_only=None' is deprecated. Select only valid columns or specify the value of numeric_only to silence this warning.\n",
            "  print(\"-- ответ --\", '\\n', round(df_6_5.mean(),2))\n"
          ]
        }
      ],
      "source": [
        "# результат запроса\n",
        "df_6_5 = pd.read_sql_query(query_6_5, connection)\n",
        "print(\"-- Вспомогательная инофрмация --\")\n",
        "print(df_6_5, '\\n')\n",
        "\n",
        "print(\"-- ответ --\", '\\n', round(df_6_5.mean(),2))\n"
      ]
    },
    {
      "cell_type": "markdown",
      "id": "1041c17a-ca8f-4543-a0ca-32778914fb00",
      "metadata": {
        "id": "1041c17a-ca8f-4543-a0ca-32778914fb00"
      },
      "source": [
        "6. Напишите запрос, позволяющий вычислить, какую зарплату для DS в **среднем** указывают для каждого типа требуемого опыта (уникальное значение из поля *experience*). \n",
        "\n",
        "При решении задачи примите во внимание следующее:\n",
        "1. Рассматриваем только вакансии, у которых заполнено хотя бы одно из двух полей с зарплатой.\n",
        "2. Если заполнены оба поля с зарплатой, то считаем зарплату по каждой вакансии как сумму двух полей, делённую на 2. Если заполнено только одно из полей, то его и считаем зарплатой по вакансии.\n",
        "3. Если в расчётах участвует null, в результате он тоже даст null (посмотрите, что возвращает запрос select 1 + null). Чтобы избежать этой ситуацию, мы воспользуемся функцией [coalesce](https://postgrespro.ru/docs/postgresql/9.5/functions-conditional#functions-coalesce-nvl-ifnull), которая заменит null на значение, которое мы передадим. Например, посмотрите, что возвращает запрос `select 1 + coalesce(null, 0)`\n",
        "\n",
        "Выясните, на какую зарплату в среднем может рассчитывать дата-сайентист с опытом работы от 3 до 6 лет. Результат округлите до целого числа. "
      ]
    },
    {
      "cell_type": "code",
      "execution_count": 55,
      "id": "6a743d39-5204-48d3-8271-b9f88e68d40e",
      "metadata": {
        "id": "6a743d39-5204-48d3-8271-b9f88e68d40e"
      },
      "outputs": [],
      "source": [
        "# текст запроса\n",
        "query_6_6_part1 =  f'''with data_like as (SELECT\n",
        "                v.name as name, \n",
        "                v.experience,\n",
        "                v.salary_from,\n",
        "                v.salary_to\n",
        "            FROM\n",
        "                vacancies v\n",
        "            WHERE (({main_DS_request}))\n",
        "            GROUP BY v.experience, v.name, v.salary_from, v.salary_to)\n",
        "            '''\n",
        "query_distinct_experience = query_6_6_part1 + f'''\n",
        "\n",
        "            select distinct experience from data_like\n",
        "            '''\n",
        "query_6_6_part2 = f''',\n",
        "            expirians_salary_notnull as (SELECT\n",
        "                *\n",
        "            FROM\n",
        "                data_like\n",
        "            WHERE (salary_from is NOT NULL OR salary_to IS NOT NULL)\n",
        "            GROUP BY experience, name, salary_from, salary_to),\n",
        "\n",
        "            expirians_solary_mean as\n",
        "            (select\n",
        "                experience,\n",
        "                (coalesce(salary_to, 0) + coalesce(salary_from, 0)) / 2 as mean\n",
        "            FROM\n",
        "                expirians_salary_notnull\n",
        "            WHERE (coalesce(salary_from, 0) != 0 AND coalesce(salary_to, 0) != 0)\n",
        "\n",
        "            union all\n",
        "            select\n",
        "                experience,\n",
        "                coalesce(salary_to, 0) \n",
        "            FROM\n",
        "                expirians_salary_notnull\n",
        "            WHERE coalesce(salary_from, 0) = 0\n",
        "\n",
        "            UNION ALL \n",
        "\n",
        "            select\n",
        "                experience,\n",
        "                coalesce(salary_from, 0) \n",
        "            FROM\n",
        "                expirians_salary_notnull\n",
        "            WHERE coalesce(salary_to, 0) = 0)\n",
        "            \n",
        "            select \n",
        "                experience,\n",
        "                ROUND(AVG(mean))\n",
        "            from \n",
        "                expirians_solary_mean\n",
        "            GROUP BY experience\n",
        "'''\n",
        "\n",
        "query_6_6  = query_6_6_part1 + query_6_6_part2 \n"
      ]
    },
    {
      "cell_type": "code",
      "execution_count": 56,
      "id": "aRIJ0mZEwU1_",
      "metadata": {
        "id": "aRIJ0mZEwU1_"
      },
      "outputs": [
        {
          "name": "stderr",
          "output_type": "stream",
          "text": [
            "C:\\Users\\Artur.Abaidulov\\AppData\\Local\\Temp\\ipykernel_23508\\2798417237.py:3: UserWarning: pandas only supports SQLAlchemy connectable (engine/connection) or database string URI or sqlite3 DBAPI2 connection. Other DBAPI2 objects are not tested. Please consider using SQLAlchemy.\n",
            "  df_distinct_experience = pd.read_sql_query(query_distinct_experience, connection)\n"
          ]
        },
        {
          "data": {
            "text/html": [
              "<div>\n",
              "<style scoped>\n",
              "    .dataframe tbody tr th:only-of-type {\n",
              "        vertical-align: middle;\n",
              "    }\n",
              "\n",
              "    .dataframe tbody tr th {\n",
              "        vertical-align: top;\n",
              "    }\n",
              "\n",
              "    .dataframe thead th {\n",
              "        text-align: right;\n",
              "    }\n",
              "</style>\n",
              "<table border=\"1\" class=\"dataframe\">\n",
              "  <thead>\n",
              "    <tr style=\"text-align: right;\">\n",
              "      <th></th>\n",
              "      <th>experience</th>\n",
              "    </tr>\n",
              "  </thead>\n",
              "  <tbody>\n",
              "    <tr>\n",
              "      <th>0</th>\n",
              "      <td>От 3 до 6 лет</td>\n",
              "    </tr>\n",
              "    <tr>\n",
              "      <th>1</th>\n",
              "      <td>От 1 года до 3 лет</td>\n",
              "    </tr>\n",
              "    <tr>\n",
              "      <th>2</th>\n",
              "      <td>Более 6 лет</td>\n",
              "    </tr>\n",
              "    <tr>\n",
              "      <th>3</th>\n",
              "      <td>Нет опыта</td>\n",
              "    </tr>\n",
              "  </tbody>\n",
              "</table>\n",
              "</div>"
            ],
            "text/plain": [
              "           experience\n",
              "0       От 3 до 6 лет\n",
              "1  От 1 года до 3 лет\n",
              "2         Более 6 лет\n",
              "3           Нет опыта"
            ]
          },
          "metadata": {},
          "output_type": "display_data"
        },
        {
          "name": "stderr",
          "output_type": "stream",
          "text": [
            "C:\\Users\\Artur.Abaidulov\\AppData\\Local\\Temp\\ipykernel_23508\\2798417237.py:7: UserWarning: pandas only supports SQLAlchemy connectable (engine/connection) or database string URI or sqlite3 DBAPI2 connection. Other DBAPI2 objects are not tested. Please consider using SQLAlchemy.\n",
            "  df_6_6 = pd.read_sql_query(query_6_6, connection)\n"
          ]
        },
        {
          "ename": "NameError",
          "evalue": "name 'df_mean_DS_salary' is not defined",
          "output_type": "error",
          "traceback": [
            "\u001b[1;31m---------------------------------------------------------------------------\u001b[0m",
            "\u001b[1;31mNameError\u001b[0m                                 Traceback (most recent call last)",
            "\u001b[1;32mc:\\Users\\Artur.Abaidulov\\Projects\\SQL-02-project-2\\Project_2_sql-project.ipynb Cell 84\u001b[0m in \u001b[0;36m8\n\u001b[0;32m      <a href='vscode-notebook-cell:/c%3A/Users/Artur.Abaidulov/Projects/SQL-02-project-2/Project_2_sql-project.ipynb#Y146sZmlsZQ%3D%3D?line=5'>6</a>\u001b[0m \u001b[39m# Основной ответ\u001b[39;00m\n\u001b[0;32m      <a href='vscode-notebook-cell:/c%3A/Users/Artur.Abaidulov/Projects/SQL-02-project-2/Project_2_sql-project.ipynb#Y146sZmlsZQ%3D%3D?line=6'>7</a>\u001b[0m df_6_6 \u001b[39m=\u001b[39m pd\u001b[39m.\u001b[39mread_sql_query(query_6_6, connection)\n\u001b[1;32m----> <a href='vscode-notebook-cell:/c%3A/Users/Artur.Abaidulov/Projects/SQL-02-project-2/Project_2_sql-project.ipynb#Y146sZmlsZQ%3D%3D?line=7'>8</a>\u001b[0m display(df_mean_DS_salary)\n",
            "\u001b[1;31mNameError\u001b[0m: name 'df_mean_DS_salary' is not defined"
          ]
        }
      ],
      "source": [
        "# результат запроса\n",
        "# Дополнительная таблица с опытом работы для наглядности \n",
        "df_distinct_experience = pd.read_sql_query(query_distinct_experience, connection)\n",
        "display(df_distinct_experience)\n",
        "\n",
        "# Основной ответ\n",
        "df_6_6 = pd.read_sql_query(query_6_6, connection)\n",
        "display(df_mean_DS_salary)"
      ]
    },
    {
      "cell_type": "markdown",
      "id": "6a7892b4-4113-4746-adce-18aa2844f18e",
      "metadata": {
        "id": "6a7892b4-4113-4746-adce-18aa2844f18e"
      },
      "source": [
        "***"
      ]
    },
    {
      "attachments": {},
      "cell_type": "markdown",
      "id": "cd5d6b70",
      "metadata": {},
      "source": [
        "<h3> выводы по предметному анализу </h3>\n",
        "\n",
        "\n",
        "<p> Выводы которые можно сделать, исходя из запросов по предметному анализу.<br>\n",
        "\n",
        "1. Среди общего числа вакансий которые работают с данными составляют всего ~3.5% (1771 вакансий) от общего числа<br>\n",
        "    А непосредственно DS меньше 1% (480). (К примеру \"системных администраторов\" в 1.5 раза больше)<br>\n",
        "2. postgresql и sql у среди вакансий DS встречается в ~40% случаев, что дает понять что это не маловажный навык для DS.<br>\n",
        "3. python у среди вакансий DS встречается в ~70% случаев, это значит один из основных навыков для данной професси.<br>\n",
        "4. Общее число навыков указаных как основные у специалистов DS 6-7 (есть не точность ответ не совпал с курсом)<br>\n",
        "5. В зависимости от опыты DS средняя зарплата специалиста ростет от ~40% до 50% (есть не точность ответ не совпал с курсом)\n",
        "</p>\n"
      ]
    },
    {
      "cell_type": "markdown",
      "id": "c0ED6fh7wiBT",
      "metadata": {
        "id": "c0ED6fh7wiBT"
      },
      "source": [
        "# Общий вывод по проекту"
      ]
    },
    {
      "attachments": {},
      "cell_type": "markdown",
      "id": "9c867ae9",
      "metadata": {},
      "source": [
        "<h3> подведем итог исследования, обобщите выводы </h3>\n",
        "\n",
        "<p>\n",
        "По итогам можно сказать следующее:\n",
        "Большенство вакансий сосредоточено в крупных городах, и средняя заработная плата там выше.\n",
        "Так же большая вакансий расчитаны на полный рабочий день\n",
        "На рынке труда очень много не опытных или мало опытных специалистов (для понимания причин у нас мало данных)\n",
        "\n",
        "По работодателям.\n",
        "В крупных компаниях по всем регионам, необходимы хорошие специалисты.\n",
        "Ярким примером был \"Яндекс\" по которому мы проводили исследование.\n",
        "\n",
        "Специалисты Data Scientist и Machine Learning являются достаточно востребованными. \n",
        "Многие навыки смежны с другими IT специалистами, но среднй уровень разоботных плат более привлекательный.\n",
        "(сам являюсь системным администратором, имею представление об сфере IT)\n",
        "</p>\n"
      ]
    },
    {
      "cell_type": "code",
      "execution_count": 57,
      "id": "h9B3BL-wwj18",
      "metadata": {
        "id": "h9B3BL-wwj18"
      },
      "outputs": [
        {
          "name": "stderr",
          "output_type": "stream",
          "text": [
            "C:\\Users\\Artur.Abaidulov\\AppData\\Local\\Temp\\ipykernel_23508\\175538268.py:20: UserWarning: pandas only supports SQLAlchemy connectable (engine/connection) or database string URI or sqlite3 DBAPI2 connection. Other DBAPI2 objects are not tested. Please consider using SQLAlchemy.\n",
            "  df_DS_total = pd.read_sql_query(query_DS_total, connection)\n"
          ]
        },
        {
          "data": {
            "text/html": [
              "<div>\n",
              "<style scoped>\n",
              "    .dataframe tbody tr th:only-of-type {\n",
              "        vertical-align: middle;\n",
              "    }\n",
              "\n",
              "    .dataframe tbody tr th {\n",
              "        vertical-align: top;\n",
              "    }\n",
              "\n",
              "    .dataframe thead th {\n",
              "        text-align: right;\n",
              "    }\n",
              "</style>\n",
              "<table border=\"1\" class=\"dataframe\">\n",
              "  <thead>\n",
              "    <tr style=\"text-align: right;\">\n",
              "      <th></th>\n",
              "      <th>sum</th>\n",
              "    </tr>\n",
              "  </thead>\n",
              "  <tbody>\n",
              "    <tr>\n",
              "      <th>0</th>\n",
              "      <td>480.0</td>\n",
              "    </tr>\n",
              "  </tbody>\n",
              "</table>\n",
              "</div>"
            ],
            "text/plain": [
              "     sum\n",
              "0  480.0"
            ]
          },
          "metadata": {},
          "output_type": "display_data"
        },
        {
          "name": "stderr",
          "output_type": "stream",
          "text": [
            "C:\\Users\\Artur.Abaidulov\\AppData\\Local\\Temp\\ipykernel_23508\\175538268.py:43: UserWarning: pandas only supports SQLAlchemy connectable (engine/connection) or database string URI or sqlite3 DBAPI2 connection. Other DBAPI2 objects are not tested. Please consider using SQLAlchemy.\n",
            "  df_SA_total = pd.read_sql_query(query_SA_total, connection)\n"
          ]
        },
        {
          "data": {
            "text/html": [
              "<div>\n",
              "<style scoped>\n",
              "    .dataframe tbody tr th:only-of-type {\n",
              "        vertical-align: middle;\n",
              "    }\n",
              "\n",
              "    .dataframe tbody tr th {\n",
              "        vertical-align: top;\n",
              "    }\n",
              "\n",
              "    .dataframe thead th {\n",
              "        text-align: right;\n",
              "    }\n",
              "</style>\n",
              "<table border=\"1\" class=\"dataframe\">\n",
              "  <thead>\n",
              "    <tr style=\"text-align: right;\">\n",
              "      <th></th>\n",
              "      <th>name</th>\n",
              "      <th>sum</th>\n",
              "    </tr>\n",
              "  </thead>\n",
              "  <tbody>\n",
              "    <tr>\n",
              "      <th>0</th>\n",
              "      <td>Системный администратор/специалист техподдержк...</td>\n",
              "      <td>1.0</td>\n",
              "    </tr>\n",
              "    <tr>\n",
              "      <th>1</th>\n",
              "      <td>Системный администратор-DevOps</td>\n",
              "      <td>1.0</td>\n",
              "    </tr>\n",
              "    <tr>\n",
              "      <th>2</th>\n",
              "      <td>Системный администратор (Красноярск, ул. Спарт...</td>\n",
              "      <td>1.0</td>\n",
              "    </tr>\n",
              "    <tr>\n",
              "      <th>3</th>\n",
              "      <td>Devops/Системный администратор Linux</td>\n",
              "      <td>1.0</td>\n",
              "    </tr>\n",
              "    <tr>\n",
              "      <th>4</th>\n",
              "      <td>Системный администратор [FW8812]</td>\n",
              "      <td>1.0</td>\n",
              "    </tr>\n",
              "    <tr>\n",
              "      <th>...</th>\n",
              "      <td>...</td>\n",
              "      <td>...</td>\n",
              "    </tr>\n",
              "    <tr>\n",
              "      <th>563</th>\n",
              "      <td>Системный администратор - сетевой инженер</td>\n",
              "      <td>1.0</td>\n",
              "    </tr>\n",
              "    <tr>\n",
              "      <th>564</th>\n",
              "      <td>Системный администратор СХД</td>\n",
              "      <td>1.0</td>\n",
              "    </tr>\n",
              "    <tr>\n",
              "      <th>565</th>\n",
              "      <td>Системный администратор\\ Junior DevOps инженер</td>\n",
              "      <td>1.0</td>\n",
              "    </tr>\n",
              "    <tr>\n",
              "      <th>566</th>\n",
              "      <td>Системный администратор в типографию</td>\n",
              "      <td>1.0</td>\n",
              "    </tr>\n",
              "    <tr>\n",
              "      <th>567</th>\n",
              "      <td>Системный администратор / ИТ-инженер</td>\n",
              "      <td>2.0</td>\n",
              "    </tr>\n",
              "  </tbody>\n",
              "</table>\n",
              "<p>568 rows × 2 columns</p>\n",
              "</div>"
            ],
            "text/plain": [
              "                                                  name  sum\n",
              "0    Системный администратор/специалист техподдержк...  1.0\n",
              "1                       Системный администратор-DevOps  1.0\n",
              "2    Системный администратор (Красноярск, ул. Спарт...  1.0\n",
              "3                 Devops/Системный администратор Linux  1.0\n",
              "4                     Системный администратор [FW8812]  1.0\n",
              "..                                                 ...  ...\n",
              "563          Системный администратор - сетевой инженер  1.0\n",
              "564                        Системный администратор СХД  1.0\n",
              "565     Системный администратор\\ Junior DevOps инженер  1.0\n",
              "566               Системный администратор в типографию  1.0\n",
              "567               Системный администратор / ИТ-инженер  2.0\n",
              "\n",
              "[568 rows x 2 columns]"
            ]
          },
          "metadata": {},
          "output_type": "display_data"
        }
      ],
      "source": [
        "# \n",
        "# здесь можно (это будет плюсом) провести дополнительные исследования данных, сделать прогнозы, продумать варианты продолжения исследования\n",
        "\n",
        "# дополнительные запросы которые помогли подвести выводы по предметному анализу\n",
        "query_DS_total = f'''with data_like as (SELECT\n",
        "                v.name as name, \n",
        "                count(v.name) as cnt,\n",
        "                v.key_skills as skills     \n",
        "            FROM\n",
        "                vacancies v\n",
        "            WHERE (({main_DS_request}))\n",
        "            GROUP BY v.name, v.key_skills)\n",
        "\n",
        "        \n",
        "            SELECT\n",
        "                SUM(cnt) as sum\n",
        "            FROM\n",
        "                data_like\n",
        "         '''\n",
        "df_DS_total = pd.read_sql_query(query_DS_total, connection)\n",
        "display(df_DS_total)\n",
        "\n",
        "main_SA_request = '''name ilike '%системный администратор%' or name ilike '%сисадмин%' or \n",
        "                    name ilike 'ИТ-инженер' or name ilike 'DevOps' '''\n",
        "\n",
        "query_SA_total = f'''with data_like as (SELECT\n",
        "                v.name as name, \n",
        "                count(v.name) as cnt,\n",
        "                v.key_skills as skills     \n",
        "            FROM\n",
        "                vacancies v\n",
        "            WHERE (({main_SA_request}))\n",
        "            GROUP BY v.name, v.key_skills)\n",
        "\n",
        "        \n",
        "            SELECT\n",
        "                name,\n",
        "                SUM(cnt) as sum\n",
        "            FROM\n",
        "                data_like\n",
        "                GROUP BY name\n",
        "         '''\n",
        "df_SA_total = pd.read_sql_query(query_SA_total, connection)\n",
        "display(df_SA_total)"
      ]
    }
  ],
  "metadata": {
    "colab": {
      "collapsed_sections": [
        "8d62a9f3-f64e-4fe7-bdac-c4dffa16155e"
      ],
      "provenance": []
    },
    "kernelspec": {
      "display_name": "Python 3 (ipykernel)",
      "language": "python",
      "name": "python3"
    },
    "language_info": {
      "codemirror_mode": {
        "name": "ipython",
        "version": 3
      },
      "file_extension": ".py",
      "mimetype": "text/x-python",
      "name": "python",
      "nbconvert_exporter": "python",
      "pygments_lexer": "ipython3",
      "version": "3.9.2"
    }
  },
  "nbformat": 4,
  "nbformat_minor": 5
}
